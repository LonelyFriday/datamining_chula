{
  "nbformat": 4,
  "nbformat_minor": 0,
  "metadata": {
    "colab": {
      "provenance": [],
      "authorship_tag": "ABX9TyP65JUcNh7MgxXCNKOMa2lM",
      "include_colab_link": true
    },
    "kernelspec": {
      "name": "python3",
      "display_name": "Python 3"
    },
    "language_info": {
      "name": "python"
    }
  },
  "cells": [
    {
      "cell_type": "markdown",
      "metadata": {
        "id": "view-in-github",
        "colab_type": "text"
      },
      "source": [
        "<a href=\"https://colab.research.google.com/github/LonelyFriday/datamining_chula/blob/main/LinearRegression.ipynb\" target=\"_parent\"><img src=\"https://colab.research.google.com/assets/colab-badge.svg\" alt=\"Open In Colab\"/></a>"
      ]
    },
    {
      "cell_type": "markdown",
      "source": [
        "Multiple Linear Regression"
      ],
      "metadata": {
        "id": "j-C293CIk7Q0"
      }
    },
    {
      "cell_type": "code",
      "execution_count": null,
      "metadata": {
        "colab": {
          "base_uri": "https://localhost:8080/"
        },
        "id": "9jO3MMioievo",
        "outputId": "0fff39e9-4def-4c3d-c6ac-8c1e741a5cf0"
      },
      "outputs": [
        {
          "output_type": "stream",
          "name": "stdout",
          "text": [
            "Python 3.9.16\n"
          ]
        }
      ],
      "source": [
        "!python --version"
      ]
    },
    {
      "cell_type": "code",
      "source": [
        "from google.colab import drive\n",
        "drive.mount('/content/drive')"
      ],
      "metadata": {
        "colab": {
          "base_uri": "https://localhost:8080/"
        },
        "id": "iXJQ_pNilgkq",
        "outputId": "1d466868-6659-4ad4-8986-5f53fcaba398"
      },
      "execution_count": null,
      "outputs": [
        {
          "output_type": "stream",
          "name": "stdout",
          "text": [
            "Mounted at /content/drive\n"
          ]
        }
      ]
    },
    {
      "cell_type": "code",
      "source": [
        "# location right now\n",
        "!pwd \n",
        "# chanage directory \n",
        "%cd '/content/drive/MyDrive/dataMining'"
      ],
      "metadata": {
        "colab": {
          "base_uri": "https://localhost:8080/"
        },
        "id": "qiK3HsLXl4rU",
        "outputId": "de0bc50d-43e7-4077-edf6-ed71be4050d2"
      },
      "execution_count": null,
      "outputs": [
        {
          "output_type": "stream",
          "name": "stdout",
          "text": [
            "/content\n",
            "/content/drive/MyDrive/dataMining\n"
          ]
        }
      ]
    },
    {
      "cell_type": "markdown",
      "source": [
        "#Prerequisites"
      ],
      "metadata": {
        "id": "aW_f5j-nlPxm"
      }
    },
    {
      "cell_type": "code",
      "source": [
        "# Import library\n",
        "\n",
        "# Machine learning\n",
        "import sklearn\n",
        "\n",
        "# Data preprocessing\n",
        "import pandas as pd\n",
        "import numpy as np\n",
        "\n",
        "# Visualization tool\n",
        "import matplotlib.pyplot as plt\n",
        "import seaborn as sns"
      ],
      "metadata": {
        "id": "qQhvDucQkxDU"
      },
      "execution_count": null,
      "outputs": []
    },
    {
      "cell_type": "code",
      "source": [
        "# Import dataset\n",
        "df = pd.read_excel('dataset_MLR.xlsx')\n",
        "print(f'Number of rows and columns are: ', df.shape)\n",
        "print('')\n",
        "df.head(10)"
      ],
      "metadata": {
        "colab": {
          "base_uri": "https://localhost:8080/",
          "height": 399
        },
        "id": "OU_Fv6aanCAk",
        "outputId": "78d6a90c-0da9-4664-944a-da1c44ecdcc4"
      },
      "execution_count": null,
      "outputs": [
        {
          "output_type": "stream",
          "name": "stdout",
          "text": [
            "Number of rows and columns are:  (1338, 7)\n",
            "\n"
          ]
        },
        {
          "output_type": "execute_result",
          "data": {
            "text/plain": [
              "      sex  age smoker region    BMI  #children        amout\n",
              "0    male   55     no      W  29.90          0  10214.63600\n",
              "1  female   35     no      S  35.86          2   5836.52040\n",
              "2    male   34     no      W  32.80          1  14358.36437\n",
              "3  female   19     no      W  18.60          0   1728.89700\n",
              "4  female   39     no      S  23.87          5   8582.30230\n",
              "5    male   50     no      N  30.97          3  10600.54830\n",
              "6  female   18     no      E  31.92          0   2205.98080\n",
              "7  female   18     no      S  36.85          0   1629.83350\n",
              "8  female   21     no      W  25.80          0   2007.94500\n",
              "9  female   61    yes      N  29.07          0  29141.36030"
            ],
            "text/html": [
              "\n",
              "  <div id=\"df-681bbb1a-433d-4df6-99b4-113819d3e6bd\">\n",
              "    <div class=\"colab-df-container\">\n",
              "      <div>\n",
              "<style scoped>\n",
              "    .dataframe tbody tr th:only-of-type {\n",
              "        vertical-align: middle;\n",
              "    }\n",
              "\n",
              "    .dataframe tbody tr th {\n",
              "        vertical-align: top;\n",
              "    }\n",
              "\n",
              "    .dataframe thead th {\n",
              "        text-align: right;\n",
              "    }\n",
              "</style>\n",
              "<table border=\"1\" class=\"dataframe\">\n",
              "  <thead>\n",
              "    <tr style=\"text-align: right;\">\n",
              "      <th></th>\n",
              "      <th>sex</th>\n",
              "      <th>age</th>\n",
              "      <th>smoker</th>\n",
              "      <th>region</th>\n",
              "      <th>BMI</th>\n",
              "      <th>#children</th>\n",
              "      <th>amout</th>\n",
              "    </tr>\n",
              "  </thead>\n",
              "  <tbody>\n",
              "    <tr>\n",
              "      <th>0</th>\n",
              "      <td>male</td>\n",
              "      <td>55</td>\n",
              "      <td>no</td>\n",
              "      <td>W</td>\n",
              "      <td>29.90</td>\n",
              "      <td>0</td>\n",
              "      <td>10214.63600</td>\n",
              "    </tr>\n",
              "    <tr>\n",
              "      <th>1</th>\n",
              "      <td>female</td>\n",
              "      <td>35</td>\n",
              "      <td>no</td>\n",
              "      <td>S</td>\n",
              "      <td>35.86</td>\n",
              "      <td>2</td>\n",
              "      <td>5836.52040</td>\n",
              "    </tr>\n",
              "    <tr>\n",
              "      <th>2</th>\n",
              "      <td>male</td>\n",
              "      <td>34</td>\n",
              "      <td>no</td>\n",
              "      <td>W</td>\n",
              "      <td>32.80</td>\n",
              "      <td>1</td>\n",
              "      <td>14358.36437</td>\n",
              "    </tr>\n",
              "    <tr>\n",
              "      <th>3</th>\n",
              "      <td>female</td>\n",
              "      <td>19</td>\n",
              "      <td>no</td>\n",
              "      <td>W</td>\n",
              "      <td>18.60</td>\n",
              "      <td>0</td>\n",
              "      <td>1728.89700</td>\n",
              "    </tr>\n",
              "    <tr>\n",
              "      <th>4</th>\n",
              "      <td>female</td>\n",
              "      <td>39</td>\n",
              "      <td>no</td>\n",
              "      <td>S</td>\n",
              "      <td>23.87</td>\n",
              "      <td>5</td>\n",
              "      <td>8582.30230</td>\n",
              "    </tr>\n",
              "    <tr>\n",
              "      <th>5</th>\n",
              "      <td>male</td>\n",
              "      <td>50</td>\n",
              "      <td>no</td>\n",
              "      <td>N</td>\n",
              "      <td>30.97</td>\n",
              "      <td>3</td>\n",
              "      <td>10600.54830</td>\n",
              "    </tr>\n",
              "    <tr>\n",
              "      <th>6</th>\n",
              "      <td>female</td>\n",
              "      <td>18</td>\n",
              "      <td>no</td>\n",
              "      <td>E</td>\n",
              "      <td>31.92</td>\n",
              "      <td>0</td>\n",
              "      <td>2205.98080</td>\n",
              "    </tr>\n",
              "    <tr>\n",
              "      <th>7</th>\n",
              "      <td>female</td>\n",
              "      <td>18</td>\n",
              "      <td>no</td>\n",
              "      <td>S</td>\n",
              "      <td>36.85</td>\n",
              "      <td>0</td>\n",
              "      <td>1629.83350</td>\n",
              "    </tr>\n",
              "    <tr>\n",
              "      <th>8</th>\n",
              "      <td>female</td>\n",
              "      <td>21</td>\n",
              "      <td>no</td>\n",
              "      <td>W</td>\n",
              "      <td>25.80</td>\n",
              "      <td>0</td>\n",
              "      <td>2007.94500</td>\n",
              "    </tr>\n",
              "    <tr>\n",
              "      <th>9</th>\n",
              "      <td>female</td>\n",
              "      <td>61</td>\n",
              "      <td>yes</td>\n",
              "      <td>N</td>\n",
              "      <td>29.07</td>\n",
              "      <td>0</td>\n",
              "      <td>29141.36030</td>\n",
              "    </tr>\n",
              "  </tbody>\n",
              "</table>\n",
              "</div>\n",
              "      <button class=\"colab-df-convert\" onclick=\"convertToInteractive('df-681bbb1a-433d-4df6-99b4-113819d3e6bd')\"\n",
              "              title=\"Convert this dataframe to an interactive table.\"\n",
              "              style=\"display:none;\">\n",
              "        \n",
              "  <svg xmlns=\"http://www.w3.org/2000/svg\" height=\"24px\"viewBox=\"0 0 24 24\"\n",
              "       width=\"24px\">\n",
              "    <path d=\"M0 0h24v24H0V0z\" fill=\"none\"/>\n",
              "    <path d=\"M18.56 5.44l.94 2.06.94-2.06 2.06-.94-2.06-.94-.94-2.06-.94 2.06-2.06.94zm-11 1L8.5 8.5l.94-2.06 2.06-.94-2.06-.94L8.5 2.5l-.94 2.06-2.06.94zm10 10l.94 2.06.94-2.06 2.06-.94-2.06-.94-.94-2.06-.94 2.06-2.06.94z\"/><path d=\"M17.41 7.96l-1.37-1.37c-.4-.4-.92-.59-1.43-.59-.52 0-1.04.2-1.43.59L10.3 9.45l-7.72 7.72c-.78.78-.78 2.05 0 2.83L4 21.41c.39.39.9.59 1.41.59.51 0 1.02-.2 1.41-.59l7.78-7.78 2.81-2.81c.8-.78.8-2.07 0-2.86zM5.41 20L4 18.59l7.72-7.72 1.47 1.35L5.41 20z\"/>\n",
              "  </svg>\n",
              "      </button>\n",
              "      \n",
              "  <style>\n",
              "    .colab-df-container {\n",
              "      display:flex;\n",
              "      flex-wrap:wrap;\n",
              "      gap: 12px;\n",
              "    }\n",
              "\n",
              "    .colab-df-convert {\n",
              "      background-color: #E8F0FE;\n",
              "      border: none;\n",
              "      border-radius: 50%;\n",
              "      cursor: pointer;\n",
              "      display: none;\n",
              "      fill: #1967D2;\n",
              "      height: 32px;\n",
              "      padding: 0 0 0 0;\n",
              "      width: 32px;\n",
              "    }\n",
              "\n",
              "    .colab-df-convert:hover {\n",
              "      background-color: #E2EBFA;\n",
              "      box-shadow: 0px 1px 2px rgba(60, 64, 67, 0.3), 0px 1px 3px 1px rgba(60, 64, 67, 0.15);\n",
              "      fill: #174EA6;\n",
              "    }\n",
              "\n",
              "    [theme=dark] .colab-df-convert {\n",
              "      background-color: #3B4455;\n",
              "      fill: #D2E3FC;\n",
              "    }\n",
              "\n",
              "    [theme=dark] .colab-df-convert:hover {\n",
              "      background-color: #434B5C;\n",
              "      box-shadow: 0px 1px 3px 1px rgba(0, 0, 0, 0.15);\n",
              "      filter: drop-shadow(0px 1px 2px rgba(0, 0, 0, 0.3));\n",
              "      fill: #FFFFFF;\n",
              "    }\n",
              "  </style>\n",
              "\n",
              "      <script>\n",
              "        const buttonEl =\n",
              "          document.querySelector('#df-681bbb1a-433d-4df6-99b4-113819d3e6bd button.colab-df-convert');\n",
              "        buttonEl.style.display =\n",
              "          google.colab.kernel.accessAllowed ? 'block' : 'none';\n",
              "\n",
              "        async function convertToInteractive(key) {\n",
              "          const element = document.querySelector('#df-681bbb1a-433d-4df6-99b4-113819d3e6bd');\n",
              "          const dataTable =\n",
              "            await google.colab.kernel.invokeFunction('convertToInteractive',\n",
              "                                                     [key], {});\n",
              "          if (!dataTable) return;\n",
              "\n",
              "          const docLinkHtml = 'Like what you see? Visit the ' +\n",
              "            '<a target=\"_blank\" href=https://colab.research.google.com/notebooks/data_table.ipynb>data table notebook</a>'\n",
              "            + ' to learn more about interactive tables.';\n",
              "          element.innerHTML = '';\n",
              "          dataTable['output_type'] = 'display_data';\n",
              "          await google.colab.output.renderOutput(dataTable, element);\n",
              "          const docLink = document.createElement('div');\n",
              "          docLink.innerHTML = docLinkHtml;\n",
              "          element.appendChild(docLink);\n",
              "        }\n",
              "      </script>\n",
              "    </div>\n",
              "  </div>\n",
              "  "
            ]
          },
          "metadata": {},
          "execution_count": 115
        }
      ]
    },
    {
      "cell_type": "code",
      "source": [
        "df.info()"
      ],
      "metadata": {
        "colab": {
          "base_uri": "https://localhost:8080/"
        },
        "id": "JzEix7hno68e",
        "outputId": "ddcddbb6-1fdc-40c4-b7ea-c66a618e22e2"
      },
      "execution_count": null,
      "outputs": [
        {
          "output_type": "stream",
          "name": "stdout",
          "text": [
            "<class 'pandas.core.frame.DataFrame'>\n",
            "RangeIndex: 1338 entries, 0 to 1337\n",
            "Data columns (total 7 columns):\n",
            " #   Column     Non-Null Count  Dtype  \n",
            "---  ------     --------------  -----  \n",
            " 0   sex        1338 non-null   object \n",
            " 1   age        1338 non-null   int64  \n",
            " 2   smoker     1338 non-null   object \n",
            " 3   region     1338 non-null   object \n",
            " 4   BMI        1338 non-null   float64\n",
            " 5   #children  1338 non-null   int64  \n",
            " 6   amout      1338 non-null   float64\n",
            "dtypes: float64(2), int64(2), object(3)\n",
            "memory usage: 73.3+ KB\n"
          ]
        }
      ]
    },
    {
      "cell_type": "markdown",
      "source": [
        "#Data Preprocessing"
      ],
      "metadata": {
        "id": "pNJkl2tmlQ5e"
      }
    },
    {
      "cell_type": "code",
      "source": [
        "# Check missing data\n",
        "plt.figure(figsize = (12, 4))\n",
        "sns.heatmap(df.isnull(),\n",
        "            cbar = False,\n",
        "            cmap = 'viridis',\n",
        "            yticklabels = False)\n",
        "plt.title('Missing value')"
      ],
      "metadata": {
        "colab": {
          "base_uri": "https://localhost:8080/",
          "height": 299
        },
        "id": "cFp1F1wVlOLt",
        "outputId": "bb818e5a-2819-4ff8-ceab-f26851c00837"
      },
      "execution_count": null,
      "outputs": [
        {
          "output_type": "execute_result",
          "data": {
            "text/plain": [
              "Text(0.5, 1.0, 'Missing value')"
            ]
          },
          "metadata": {},
          "execution_count": 117
        },
        {
          "output_type": "display_data",
          "data": {
            "text/plain": [
              "<Figure size 864x288 with 1 Axes>"
            ],
            "image/png": "[encoded data removed]"
          },
          "metadata": {
            "needs_background": "light"
          }
        }
      ]
    },
    {
      "cell_type": "code",
      "source": [
        "# Data Transformation by One Hot Encoding   \n",
        "dum_sex = pd.get_dummies(df['sex'], prefix = 'OHE', drop_first=True)\n",
        "dum_smoker = pd.get_dummies(df['smoker'], prefix = 'OHE', drop_first=True)\n",
        "dum_region = pd.get_dummies(df['region'], prefix = 'OHE', drop_first=True)\n",
        "\n",
        "# Adding dum_param into dataset\n",
        "df = pd.concat([df, dum_sex, dum_smoker, dum_region], axis=1)\n",
        "\n",
        "# Remove the categorical data\n",
        "df.drop(['sex', 'smoker', 'region'], axis=1, inplace=True)\n",
        "\n",
        "# Check\n",
        "print(f'Number of rows and columns are: ', df.shape)\n",
        "print('')\n",
        "df.head(10)"
      ],
      "metadata": {
        "colab": {
          "base_uri": "https://localhost:8080/",
          "height": 399
        },
        "id": "_JHFQn2lrWN6",
        "outputId": "d7277e5f-eaa7-4baf-8790-567e3277ebf6"
      },
      "execution_count": null,
      "outputs": [
        {
          "output_type": "stream",
          "name": "stdout",
          "text": [
            "Number of rows and columns are:  (1338, 9)\n",
            "\n"
          ]
        },
        {
          "output_type": "execute_result",
          "data": {
            "text/plain": [
              "   age    BMI  #children        amout  OHE_male  OHE_yes  OHE_N  OHE_S  OHE_W\n",
              "0   55  29.90          0  10214.63600         1        0      0      0      1\n",
              "1   35  35.86          2   5836.52040         0        0      0      1      0\n",
              "2   34  32.80          1  14358.36437         1        0      0      0      1\n",
              "3   19  18.60          0   1728.89700         0        0      0      0      1\n",
              "4   39  23.87          5   8582.30230         0        0      0      1      0\n",
              "5   50  30.97          3  10600.54830         1        0      1      0      0\n",
              "6   18  31.92          0   2205.98080         0        0      0      0      0\n",
              "7   18  36.85          0   1629.83350         0        0      0      1      0\n",
              "8   21  25.80          0   2007.94500         0        0      0      0      1\n",
              "9   61  29.07          0  29141.36030         0        1      1      0      0"
            ],
            "text/html": [
              "\n",
              "  <div id=\"df-80762b0f-bd9c-45ad-8a64-c4fe137b4cb7\">\n",
              "    <div class=\"colab-df-container\">\n",
              "      <div>\n",
              "<style scoped>\n",
              "    .dataframe tbody tr th:only-of-type {\n",
              "        vertical-align: middle;\n",
              "    }\n",
              "\n",
              "    .dataframe tbody tr th {\n",
              "        vertical-align: top;\n",
              "    }\n",
              "\n",
              "    .dataframe thead th {\n",
              "        text-align: right;\n",
              "    }\n",
              "</style>\n",
              "<table border=\"1\" class=\"dataframe\">\n",
              "  <thead>\n",
              "    <tr style=\"text-align: right;\">\n",
              "      <th></th>\n",
              "      <th>age</th>\n",
              "      <th>BMI</th>\n",
              "      <th>#children</th>\n",
              "      <th>amout</th>\n",
              "      <th>OHE_male</th>\n",
              "      <th>OHE_yes</th>\n",
              "      <th>OHE_N</th>\n",
              "      <th>OHE_S</th>\n",
              "      <th>OHE_W</th>\n",
              "    </tr>\n",
              "  </thead>\n",
              "  <tbody>\n",
              "    <tr>\n",
              "      <th>0</th>\n",
              "      <td>55</td>\n",
              "      <td>29.90</td>\n",
              "      <td>0</td>\n",
              "      <td>10214.63600</td>\n",
              "      <td>1</td>\n",
              "      <td>0</td>\n",
              "      <td>0</td>\n",
              "      <td>0</td>\n",
              "      <td>1</td>\n",
              "    </tr>\n",
              "    <tr>\n",
              "      <th>1</th>\n",
              "      <td>35</td>\n",
              "      <td>35.86</td>\n",
              "      <td>2</td>\n",
              "      <td>5836.52040</td>\n",
              "      <td>0</td>\n",
              "      <td>0</td>\n",
              "      <td>0</td>\n",
              "      <td>1</td>\n",
              "      <td>0</td>\n",
              "    </tr>\n",
              "    <tr>\n",
              "      <th>2</th>\n",
              "      <td>34</td>\n",
              "      <td>32.80</td>\n",
              "      <td>1</td>\n",
              "      <td>14358.36437</td>\n",
              "      <td>1</td>\n",
              "      <td>0</td>\n",
              "      <td>0</td>\n",
              "      <td>0</td>\n",
              "      <td>1</td>\n",
              "    </tr>\n",
              "    <tr>\n",
              "      <th>3</th>\n",
              "      <td>19</td>\n",
              "      <td>18.60</td>\n",
              "      <td>0</td>\n",
              "      <td>1728.89700</td>\n",
              "      <td>0</td>\n",
              "      <td>0</td>\n",
              "      <td>0</td>\n",
              "      <td>0</td>\n",
              "      <td>1</td>\n",
              "    </tr>\n",
              "    <tr>\n",
              "      <th>4</th>\n",
              "      <td>39</td>\n",
              "      <td>23.87</td>\n",
              "      <td>5</td>\n",
              "      <td>8582.30230</td>\n",
              "      <td>0</td>\n",
              "      <td>0</td>\n",
              "      <td>0</td>\n",
              "      <td>1</td>\n",
              "      <td>0</td>\n",
              "    </tr>\n",
              "    <tr>\n",
              "      <th>5</th>\n",
              "      <td>50</td>\n",
              "      <td>30.97</td>\n",
              "      <td>3</td>\n",
              "      <td>10600.54830</td>\n",
              "      <td>1</td>\n",
              "      <td>0</td>\n",
              "      <td>1</td>\n",
              "      <td>0</td>\n",
              "      <td>0</td>\n",
              "    </tr>\n",
              "    <tr>\n",
              "      <th>6</th>\n",
              "      <td>18</td>\n",
              "      <td>31.92</td>\n",
              "      <td>0</td>\n",
              "      <td>2205.98080</td>\n",
              "      <td>0</td>\n",
              "      <td>0</td>\n",
              "      <td>0</td>\n",
              "      <td>0</td>\n",
              "      <td>0</td>\n",
              "    </tr>\n",
              "    <tr>\n",
              "      <th>7</th>\n",
              "      <td>18</td>\n",
              "      <td>36.85</td>\n",
              "      <td>0</td>\n",
              "      <td>1629.83350</td>\n",
              "      <td>0</td>\n",
              "      <td>0</td>\n",
              "      <td>0</td>\n",
              "      <td>1</td>\n",
              "      <td>0</td>\n",
              "    </tr>\n",
              "    <tr>\n",
              "      <th>8</th>\n",
              "      <td>21</td>\n",
              "      <td>25.80</td>\n",
              "      <td>0</td>\n",
              "      <td>2007.94500</td>\n",
              "      <td>0</td>\n",
              "      <td>0</td>\n",
              "      <td>0</td>\n",
              "      <td>0</td>\n",
              "      <td>1</td>\n",
              "    </tr>\n",
              "    <tr>\n",
              "      <th>9</th>\n",
              "      <td>61</td>\n",
              "      <td>29.07</td>\n",
              "      <td>0</td>\n",
              "      <td>29141.36030</td>\n",
              "      <td>0</td>\n",
              "      <td>1</td>\n",
              "      <td>1</td>\n",
              "      <td>0</td>\n",
              "      <td>0</td>\n",
              "    </tr>\n",
              "  </tbody>\n",
              "</table>\n",
              "</div>\n",
              "      <button class=\"colab-df-convert\" onclick=\"convertToInteractive('df-80762b0f-bd9c-45ad-8a64-c4fe137b4cb7')\"\n",
              "              title=\"Convert this dataframe to an interactive table.\"\n",
              "              style=\"display:none;\">\n",
              "        \n",
              "  <svg xmlns=\"http://www.w3.org/2000/svg\" height=\"24px\"viewBox=\"0 0 24 24\"\n",
              "       width=\"24px\">\n",
              "    <path d=\"M0 0h24v24H0V0z\" fill=\"none\"/>\n",
              "    <path d=\"M18.56 5.44l.94 2.06.94-2.06 2.06-.94-2.06-.94-.94-2.06-.94 2.06-2.06.94zm-11 1L8.5 8.5l.94-2.06 2.06-.94-2.06-.94L8.5 2.5l-.94 2.06-2.06.94zm10 10l.94 2.06.94-2.06 2.06-.94-2.06-.94-.94-2.06-.94 2.06-2.06.94z\"/><path d=\"M17.41 7.96l-1.37-1.37c-.4-.4-.92-.59-1.43-.59-.52 0-1.04.2-1.43.59L10.3 9.45l-7.72 7.72c-.78.78-.78 2.05 0 2.83L4 21.41c.39.39.9.59 1.41.59.51 0 1.02-.2 1.41-.59l7.78-7.78 2.81-2.81c.8-.78.8-2.07 0-2.86zM5.41 20L4 18.59l7.72-7.72 1.47 1.35L5.41 20z\"/>\n",
              "  </svg>\n",
              "      </button>\n",
              "      \n",
              "  <style>\n",
              "    .colab-df-container {\n",
              "      display:flex;\n",
              "      flex-wrap:wrap;\n",
              "      gap: 12px;\n",
              "    }\n",
              "\n",
              "    .colab-df-convert {\n",
              "      background-color: #E8F0FE;\n",
              "      border: none;\n",
              "      border-radius: 50%;\n",
              "      cursor: pointer;\n",
              "      display: none;\n",
              "      fill: #1967D2;\n",
              "      height: 32px;\n",
              "      padding: 0 0 0 0;\n",
              "      width: 32px;\n",
              "    }\n",
              "\n",
              "    .colab-df-convert:hover {\n",
              "      background-color: #E2EBFA;\n",
              "      box-shadow: 0px 1px 2px rgba(60, 64, 67, 0.3), 0px 1px 3px 1px rgba(60, 64, 67, 0.15);\n",
              "      fill: #174EA6;\n",
              "    }\n",
              "\n",
              "    [theme=dark] .colab-df-convert {\n",
              "      background-color: #3B4455;\n",
              "      fill: #D2E3FC;\n",
              "    }\n",
              "\n",
              "    [theme=dark] .colab-df-convert:hover {\n",
              "      background-color: #434B5C;\n",
              "      box-shadow: 0px 1px 3px 1px rgba(0, 0, 0, 0.15);\n",
              "      filter: drop-shadow(0px 1px 2px rgba(0, 0, 0, 0.3));\n",
              "      fill: #FFFFFF;\n",
              "    }\n",
              "  </style>\n",
              "\n",
              "      <script>\n",
              "        const buttonEl =\n",
              "          document.querySelector('#df-80762b0f-bd9c-45ad-8a64-c4fe137b4cb7 button.colab-df-convert');\n",
              "        buttonEl.style.display =\n",
              "          google.colab.kernel.accessAllowed ? 'block' : 'none';\n",
              "\n",
              "        async function convertToInteractive(key) {\n",
              "          const element = document.querySelector('#df-80762b0f-bd9c-45ad-8a64-c4fe137b4cb7');\n",
              "          const dataTable =\n",
              "            await google.colab.kernel.invokeFunction('convertToInteractive',\n",
              "                                                     [key], {});\n",
              "          if (!dataTable) return;\n",
              "\n",
              "          const docLinkHtml = 'Like what you see? Visit the ' +\n",
              "            '<a target=\"_blank\" href=https://colab.research.google.com/notebooks/data_table.ipynb>data table notebook</a>'\n",
              "            + ' to learn more about interactive tables.';\n",
              "          element.innerHTML = '';\n",
              "          dataTable['output_type'] = 'display_data';\n",
              "          await google.colab.output.renderOutput(dataTable, element);\n",
              "          const docLink = document.createElement('div');\n",
              "          docLink.innerHTML = docLinkHtml;\n",
              "          element.appendChild(docLink);\n",
              "        }\n",
              "      </script>\n",
              "    </div>\n",
              "  </div>\n",
              "  "
            ]
          },
          "metadata": {},
          "execution_count": 118
        }
      ]
    },
    {
      "cell_type": "markdown",
      "source": [
        "#Model construction"
      ],
      "metadata": {
        "id": "7s_RwfT-lTk0"
      }
    },
    {
      "cell_type": "code",
      "source": [
        "from sklearn.model_selection import train_test_split\n",
        "\n",
        "# Feature and Label\n",
        "X = df.drop(['amout'], axis=1)\n",
        "y = df['amout'].values.reshape(-1, 1)\n",
        "\n",
        "# Split data to train data and test data\n",
        "X_train, X_test, y_train, y_test = train_test_split(X, y, test_size=0.2, random_state=1234)"
      ],
      "metadata": {
        "id": "OJp9qayTlV_C"
      },
      "execution_count": null,
      "outputs": []
    },
    {
      "cell_type": "code",
      "source": [
        "# Applying into Linear Regression model\n",
        "from sklearn.linear_model import LinearRegression\n",
        "\n",
        "linReg = LinearRegression()\n",
        "model = linReg.fit(X_train, y_train)"
      ],
      "metadata": {
        "id": "RUk8WG0PvDNe"
      },
      "execution_count": null,
      "outputs": []
    },
    {
      "cell_type": "code",
      "source": [
        "# Create param dataframe\n",
        "parameter = ['theta_' + str(i) for i in range(X_train.shape[1] + 1)]\n",
        "columns = ['intercept'] + list(X_train.columns.values)"
      ],
      "metadata": {
        "id": "GLsgmCsAvwdg"
      },
      "execution_count": null,
      "outputs": []
    },
    {
      "cell_type": "code",
      "source": [
        "# Get sk_theta\n",
        "sk_theta = list(model.intercept_) + list(model.coef_.flatten())\n",
        "sk_theta"
      ],
      "metadata": {
        "colab": {
          "base_uri": "https://localhost:8080/"
        },
        "id": "-ClLFuEmwo75",
        "outputId": "3070cebe-605d-4910-bb74-1e7cc8ceb3fd"
      },
      "execution_count": null,
      "outputs": [
        {
          "output_type": "execute_result",
          "data": {
            "text/plain": [
              "[-10586.495358812579,\n",
              " 247.6886000802213,\n",
              " 317.5160408910334,\n",
              " 493.333705639273,\n",
              " -168.48374540115927,\n",
              " 24254.69473297456,\n",
              " -843.2090986961039,\n",
              " -1226.9803402023185,\n",
              " -1238.0577365537574]"
            ]
          },
          "metadata": {},
          "execution_count": 122
        }
      ]
    },
    {
      "cell_type": "code",
      "source": [
        "# params dataframe\n",
        "param_df = pd.DataFrame({\n",
        "    'parameter': parameter,\n",
        "    'columns': columns,\n",
        "    'theta_value': list(sk_theta)\n",
        "})\n",
        "\n",
        "param_df"
      ],
      "metadata": {
        "colab": {
          "base_uri": "https://localhost:8080/",
          "height": 332
        },
        "id": "4U6inelyxFES",
        "outputId": "9e0ab58e-d0c9-407e-af64-58bdee8ee116"
      },
      "execution_count": null,
      "outputs": [
        {
          "output_type": "execute_result",
          "data": {
            "text/plain": [
              "  parameter    columns   theta_value\n",
              "0   theta_0  intercept -10586.495359\n",
              "1   theta_1        age    247.688600\n",
              "2   theta_2        BMI    317.516041\n",
              "3   theta_3  #children    493.333706\n",
              "4   theta_4   OHE_male   -168.483745\n",
              "5   theta_5    OHE_yes  24254.694733\n",
              "6   theta_6      OHE_N   -843.209099\n",
              "7   theta_7      OHE_S  -1226.980340\n",
              "8   theta_8      OHE_W  -1238.057737"
            ],
            "text/html": [
              "\n",
              "  <div id=\"df-5ac58da0-5a16-4528-9f7a-a7b6cd061a54\">\n",
              "    <div class=\"colab-df-container\">\n",
              "      <div>\n",
              "<style scoped>\n",
              "    .dataframe tbody tr th:only-of-type {\n",
              "        vertical-align: middle;\n",
              "    }\n",
              "\n",
              "    .dataframe tbody tr th {\n",
              "        vertical-align: top;\n",
              "    }\n",
              "\n",
              "    .dataframe thead th {\n",
              "        text-align: right;\n",
              "    }\n",
              "</style>\n",
              "<table border=\"1\" class=\"dataframe\">\n",
              "  <thead>\n",
              "    <tr style=\"text-align: right;\">\n",
              "      <th></th>\n",
              "      <th>parameter</th>\n",
              "      <th>columns</th>\n",
              "      <th>theta_value</th>\n",
              "    </tr>\n",
              "  </thead>\n",
              "  <tbody>\n",
              "    <tr>\n",
              "      <th>0</th>\n",
              "      <td>theta_0</td>\n",
              "      <td>intercept</td>\n",
              "      <td>-10586.495359</td>\n",
              "    </tr>\n",
              "    <tr>\n",
              "      <th>1</th>\n",
              "      <td>theta_1</td>\n",
              "      <td>age</td>\n",
              "      <td>247.688600</td>\n",
              "    </tr>\n",
              "    <tr>\n",
              "      <th>2</th>\n",
              "      <td>theta_2</td>\n",
              "      <td>BMI</td>\n",
              "      <td>317.516041</td>\n",
              "    </tr>\n",
              "    <tr>\n",
              "      <th>3</th>\n",
              "      <td>theta_3</td>\n",
              "      <td>#children</td>\n",
              "      <td>493.333706</td>\n",
              "    </tr>\n",
              "    <tr>\n",
              "      <th>4</th>\n",
              "      <td>theta_4</td>\n",
              "      <td>OHE_male</td>\n",
              "      <td>-168.483745</td>\n",
              "    </tr>\n",
              "    <tr>\n",
              "      <th>5</th>\n",
              "      <td>theta_5</td>\n",
              "      <td>OHE_yes</td>\n",
              "      <td>24254.694733</td>\n",
              "    </tr>\n",
              "    <tr>\n",
              "      <th>6</th>\n",
              "      <td>theta_6</td>\n",
              "      <td>OHE_N</td>\n",
              "      <td>-843.209099</td>\n",
              "    </tr>\n",
              "    <tr>\n",
              "      <th>7</th>\n",
              "      <td>theta_7</td>\n",
              "      <td>OHE_S</td>\n",
              "      <td>-1226.980340</td>\n",
              "    </tr>\n",
              "    <tr>\n",
              "      <th>8</th>\n",
              "      <td>theta_8</td>\n",
              "      <td>OHE_W</td>\n",
              "      <td>-1238.057737</td>\n",
              "    </tr>\n",
              "  </tbody>\n",
              "</table>\n",
              "</div>\n",
              "      <button class=\"colab-df-convert\" onclick=\"convertToInteractive('df-5ac58da0-5a16-4528-9f7a-a7b6cd061a54')\"\n",
              "              title=\"Convert this dataframe to an interactive table.\"\n",
              "              style=\"display:none;\">\n",
              "        \n",
              "  <svg xmlns=\"http://www.w3.org/2000/svg\" height=\"24px\"viewBox=\"0 0 24 24\"\n",
              "       width=\"24px\">\n",
              "    <path d=\"M0 0h24v24H0V0z\" fill=\"none\"/>\n",
              "    <path d=\"M18.56 5.44l.94 2.06.94-2.06 2.06-.94-2.06-.94-.94-2.06-.94 2.06-2.06.94zm-11 1L8.5 8.5l.94-2.06 2.06-.94-2.06-.94L8.5 2.5l-.94 2.06-2.06.94zm10 10l.94 2.06.94-2.06 2.06-.94-2.06-.94-.94-2.06-.94 2.06-2.06.94z\"/><path d=\"M17.41 7.96l-1.37-1.37c-.4-.4-.92-.59-1.43-.59-.52 0-1.04.2-1.43.59L10.3 9.45l-7.72 7.72c-.78.78-.78 2.05 0 2.83L4 21.41c.39.39.9.59 1.41.59.51 0 1.02-.2 1.41-.59l7.78-7.78 2.81-2.81c.8-.78.8-2.07 0-2.86zM5.41 20L4 18.59l7.72-7.72 1.47 1.35L5.41 20z\"/>\n",
              "  </svg>\n",
              "      </button>\n",
              "      \n",
              "  <style>\n",
              "    .colab-df-container {\n",
              "      display:flex;\n",
              "      flex-wrap:wrap;\n",
              "      gap: 12px;\n",
              "    }\n",
              "\n",
              "    .colab-df-convert {\n",
              "      background-color: #E8F0FE;\n",
              "      border: none;\n",
              "      border-radius: 50%;\n",
              "      cursor: pointer;\n",
              "      display: none;\n",
              "      fill: #1967D2;\n",
              "      height: 32px;\n",
              "      padding: 0 0 0 0;\n",
              "      width: 32px;\n",
              "    }\n",
              "\n",
              "    .colab-df-convert:hover {\n",
              "      background-color: #E2EBFA;\n",
              "      box-shadow: 0px 1px 2px rgba(60, 64, 67, 0.3), 0px 1px 3px 1px rgba(60, 64, 67, 0.15);\n",
              "      fill: #174EA6;\n",
              "    }\n",
              "\n",
              "    [theme=dark] .colab-df-convert {\n",
              "      background-color: #3B4455;\n",
              "      fill: #D2E3FC;\n",
              "    }\n",
              "\n",
              "    [theme=dark] .colab-df-convert:hover {\n",
              "      background-color: #434B5C;\n",
              "      box-shadow: 0px 1px 3px 1px rgba(0, 0, 0, 0.15);\n",
              "      filter: drop-shadow(0px 1px 2px rgba(0, 0, 0, 0.3));\n",
              "      fill: #FFFFFF;\n",
              "    }\n",
              "  </style>\n",
              "\n",
              "      <script>\n",
              "        const buttonEl =\n",
              "          document.querySelector('#df-5ac58da0-5a16-4528-9f7a-a7b6cd061a54 button.colab-df-convert');\n",
              "        buttonEl.style.display =\n",
              "          google.colab.kernel.accessAllowed ? 'block' : 'none';\n",
              "\n",
              "        async function convertToInteractive(key) {\n",
              "          const element = document.querySelector('#df-5ac58da0-5a16-4528-9f7a-a7b6cd061a54');\n",
              "          const dataTable =\n",
              "            await google.colab.kernel.invokeFunction('convertToInteractive',\n",
              "                                                     [key], {});\n",
              "          if (!dataTable) return;\n",
              "\n",
              "          const docLinkHtml = 'Like what you see? Visit the ' +\n",
              "            '<a target=\"_blank\" href=https://colab.research.google.com/notebooks/data_table.ipynb>data table notebook</a>'\n",
              "            + ' to learn more about interactive tables.';\n",
              "          element.innerHTML = '';\n",
              "          dataTable['output_type'] = 'display_data';\n",
              "          await google.colab.output.renderOutput(dataTable, element);\n",
              "          const docLink = document.createElement('div');\n",
              "          docLink.innerHTML = docLinkHtml;\n",
              "          element.appendChild(docLink);\n",
              "        }\n",
              "      </script>\n",
              "    </div>\n",
              "  </div>\n",
              "  "
            ]
          },
          "metadata": {},
          "execution_count": 123
        }
      ]
    },
    {
      "cell_type": "markdown",
      "source": [
        "#Evaluation"
      ],
      "metadata": {
        "id": "x8v7s_OVlWuf"
      }
    },
    {
      "cell_type": "code",
      "source": [
        "# Using model to predict the value\n",
        "y_pred = model.predict(X_test)"
      ],
      "metadata": {
        "id": "ylgZhkuQ0Tie"
      },
      "execution_count": null,
      "outputs": []
    },
    {
      "cell_type": "code",
      "source": [
        "from sklearn import metrics\n",
        "\n",
        "# MAE\n",
        "MAE = metrics.mean_absolute_error(y_test, y_pred)\n",
        "\n",
        "# MSE\n",
        "MSE = metrics.mean_squared_error(y_test, y_pred, squared=True)\n",
        "\n",
        "# RMSE\n",
        "RMSE = metrics.mean_squared_error(y_test, y_pred, squared=False)\n",
        "\n",
        "print(f'MAE is', MAE)\n",
        "print(f'MSE is', MSE)\n",
        "print(f'RMSE is', RMSE)\n",
        "print(f'The model score is', model.score(X_test, y_test))"
      ],
      "metadata": {
        "colab": {
          "base_uri": "https://localhost:8080/"
        },
        "id": "JVHD1JsRlX_I",
        "outputId": "8c1e1d68-35c8-40af-eadd-7bc8daa3c439"
      },
      "execution_count": null,
      "outputs": [
        {
          "output_type": "stream",
          "name": "stdout",
          "text": [
            "MAE is 4185.128367656449\n",
            "MSE is 35306555.6979572\n",
            "RMSE is 5941.9319836192335\n",
            "The model score is 0.7483637283880346\n"
          ]
        }
      ]
    },
    {
      "cell_type": "markdown",
      "source": [
        "#Inclass Exercise"
      ],
      "metadata": {
        "id": "qrtGjNfe5m7J"
      }
    },
    {
      "cell_type": "code",
      "source": [
        "# Take log(amout)\n",
        "df['log_amout'] = np.log10(df['amout'])"
      ],
      "metadata": {
        "id": "J8-T4vPF5cgN"
      },
      "execution_count": null,
      "outputs": []
    },
    {
      "cell_type": "code",
      "source": [
        "# Feature and Label\n",
        "X = df.drop(['amout', 'log_amout'], axis=1)\n",
        "y = df['log_amout'].values.reshape(-1, 1)\n",
        "\n",
        "# Split data to train data and test data\n",
        "X_train, X_test, y_train, y_test = train_test_split(X, y, test_size=0.2, random_state=1234)"
      ],
      "metadata": {
        "id": "nksBlnL96Ayv"
      },
      "execution_count": null,
      "outputs": []
    },
    {
      "cell_type": "code",
      "source": [
        "# Applying into Linear Regression model\n",
        "linReg = LinearRegression()\n",
        "model = linReg.fit(X_train, y_train)"
      ],
      "metadata": {
        "id": "QcCv-elQ6Uqf"
      },
      "execution_count": null,
      "outputs": []
    },
    {
      "cell_type": "code",
      "source": [
        "# Create param dataframe\n",
        "parameter = ['theta_' + str(i) for i in range(X_train.shape[1] + 1)]\n",
        "columns = ['intercept'] + list(X_train.columns.values)\n",
        "\n",
        "# Get sk_theta\n",
        "sk_theta = list(model.intercept_) + list(model.coef_.flatten())\n",
        "\n",
        "# params dataframe\n",
        "param_df = pd.DataFrame({\n",
        "    'parameter': parameter,\n",
        "    'columns': columns,\n",
        "    'theta_value': list(sk_theta)\n",
        "})\n",
        "\n",
        "param_df"
      ],
      "metadata": {
        "colab": {
          "base_uri": "https://localhost:8080/",
          "height": 332
        },
        "id": "qWI5iXMYDU7-",
        "outputId": "aee1938f-5657-46a5-ccd2-64fa8de2b4fe"
      },
      "execution_count": null,
      "outputs": [
        {
          "output_type": "execute_result",
          "data": {
            "text/plain": [
              "  parameter    columns  theta_value\n",
              "0   theta_0  intercept     3.099156\n",
              "1   theta_1        age     0.014846\n",
              "2   theta_2        BMI     0.004769\n",
              "3   theta_3  #children     0.044862\n",
              "4   theta_4   OHE_male    -0.033399\n",
              "5   theta_5    OHE_yes     0.673279\n",
              "6   theta_6      OHE_N    -0.037763\n",
              "7   theta_7      OHE_S    -0.070361\n",
              "8   theta_8      OHE_W    -0.051112"
            ],
            "text/html": [
              "\n",
              "  <div id=\"df-b507dc1b-3456-4acf-8689-9e0ac399a74d\">\n",
              "    <div class=\"colab-df-container\">\n",
              "      <div>\n",
              "<style scoped>\n",
              "    .dataframe tbody tr th:only-of-type {\n",
              "        vertical-align: middle;\n",
              "    }\n",
              "\n",
              "    .dataframe tbody tr th {\n",
              "        vertical-align: top;\n",
              "    }\n",
              "\n",
              "    .dataframe thead th {\n",
              "        text-align: right;\n",
              "    }\n",
              "</style>\n",
              "<table border=\"1\" class=\"dataframe\">\n",
              "  <thead>\n",
              "    <tr style=\"text-align: right;\">\n",
              "      <th></th>\n",
              "      <th>parameter</th>\n",
              "      <th>columns</th>\n",
              "      <th>theta_value</th>\n",
              "    </tr>\n",
              "  </thead>\n",
              "  <tbody>\n",
              "    <tr>\n",
              "      <th>0</th>\n",
              "      <td>theta_0</td>\n",
              "      <td>intercept</td>\n",
              "      <td>3.099156</td>\n",
              "    </tr>\n",
              "    <tr>\n",
              "      <th>1</th>\n",
              "      <td>theta_1</td>\n",
              "      <td>age</td>\n",
              "      <td>0.014846</td>\n",
              "    </tr>\n",
              "    <tr>\n",
              "      <th>2</th>\n",
              "      <td>theta_2</td>\n",
              "      <td>BMI</td>\n",
              "      <td>0.004769</td>\n",
              "    </tr>\n",
              "    <tr>\n",
              "      <th>3</th>\n",
              "      <td>theta_3</td>\n",
              "      <td>#children</td>\n",
              "      <td>0.044862</td>\n",
              "    </tr>\n",
              "    <tr>\n",
              "      <th>4</th>\n",
              "      <td>theta_4</td>\n",
              "      <td>OHE_male</td>\n",
              "      <td>-0.033399</td>\n",
              "    </tr>\n",
              "    <tr>\n",
              "      <th>5</th>\n",
              "      <td>theta_5</td>\n",
              "      <td>OHE_yes</td>\n",
              "      <td>0.673279</td>\n",
              "    </tr>\n",
              "    <tr>\n",
              "      <th>6</th>\n",
              "      <td>theta_6</td>\n",
              "      <td>OHE_N</td>\n",
              "      <td>-0.037763</td>\n",
              "    </tr>\n",
              "    <tr>\n",
              "      <th>7</th>\n",
              "      <td>theta_7</td>\n",
              "      <td>OHE_S</td>\n",
              "      <td>-0.070361</td>\n",
              "    </tr>\n",
              "    <tr>\n",
              "      <th>8</th>\n",
              "      <td>theta_8</td>\n",
              "      <td>OHE_W</td>\n",
              "      <td>-0.051112</td>\n",
              "    </tr>\n",
              "  </tbody>\n",
              "</table>\n",
              "</div>\n",
              "      <button class=\"colab-df-convert\" onclick=\"convertToInteractive('df-b507dc1b-3456-4acf-8689-9e0ac399a74d')\"\n",
              "              title=\"Convert this dataframe to an interactive table.\"\n",
              "              style=\"display:none;\">\n",
              "        \n",
              "  <svg xmlns=\"http://www.w3.org/2000/svg\" height=\"24px\"viewBox=\"0 0 24 24\"\n",
              "       width=\"24px\">\n",
              "    <path d=\"M0 0h24v24H0V0z\" fill=\"none\"/>\n",
              "    <path d=\"M18.56 5.44l.94 2.06.94-2.06 2.06-.94-2.06-.94-.94-2.06-.94 2.06-2.06.94zm-11 1L8.5 8.5l.94-2.06 2.06-.94-2.06-.94L8.5 2.5l-.94 2.06-2.06.94zm10 10l.94 2.06.94-2.06 2.06-.94-2.06-.94-.94-2.06-.94 2.06-2.06.94z\"/><path d=\"M17.41 7.96l-1.37-1.37c-.4-.4-.92-.59-1.43-.59-.52 0-1.04.2-1.43.59L10.3 9.45l-7.72 7.72c-.78.78-.78 2.05 0 2.83L4 21.41c.39.39.9.59 1.41.59.51 0 1.02-.2 1.41-.59l7.78-7.78 2.81-2.81c.8-.78.8-2.07 0-2.86zM5.41 20L4 18.59l7.72-7.72 1.47 1.35L5.41 20z\"/>\n",
              "  </svg>\n",
              "      </button>\n",
              "      \n",
              "  <style>\n",
              "    .colab-df-container {\n",
              "      display:flex;\n",
              "      flex-wrap:wrap;\n",
              "      gap: 12px;\n",
              "    }\n",
              "\n",
              "    .colab-df-convert {\n",
              "      background-color: #E8F0FE;\n",
              "      border: none;\n",
              "      border-radius: 50%;\n",
              "      cursor: pointer;\n",
              "      display: none;\n",
              "      fill: #1967D2;\n",
              "      height: 32px;\n",
              "      padding: 0 0 0 0;\n",
              "      width: 32px;\n",
              "    }\n",
              "\n",
              "    .colab-df-convert:hover {\n",
              "      background-color: #E2EBFA;\n",
              "      box-shadow: 0px 1px 2px rgba(60, 64, 67, 0.3), 0px 1px 3px 1px rgba(60, 64, 67, 0.15);\n",
              "      fill: #174EA6;\n",
              "    }\n",
              "\n",
              "    [theme=dark] .colab-df-convert {\n",
              "      background-color: #3B4455;\n",
              "      fill: #D2E3FC;\n",
              "    }\n",
              "\n",
              "    [theme=dark] .colab-df-convert:hover {\n",
              "      background-color: #434B5C;\n",
              "      box-shadow: 0px 1px 3px 1px rgba(0, 0, 0, 0.15);\n",
              "      filter: drop-shadow(0px 1px 2px rgba(0, 0, 0, 0.3));\n",
              "      fill: #FFFFFF;\n",
              "    }\n",
              "  </style>\n",
              "\n",
              "      <script>\n",
              "        const buttonEl =\n",
              "          document.querySelector('#df-b507dc1b-3456-4acf-8689-9e0ac399a74d button.colab-df-convert');\n",
              "        buttonEl.style.display =\n",
              "          google.colab.kernel.accessAllowed ? 'block' : 'none';\n",
              "\n",
              "        async function convertToInteractive(key) {\n",
              "          const element = document.querySelector('#df-b507dc1b-3456-4acf-8689-9e0ac399a74d');\n",
              "          const dataTable =\n",
              "            await google.colab.kernel.invokeFunction('convertToInteractive',\n",
              "                                                     [key], {});\n",
              "          if (!dataTable) return;\n",
              "\n",
              "          const docLinkHtml = 'Like what you see? Visit the ' +\n",
              "            '<a target=\"_blank\" href=https://colab.research.google.com/notebooks/data_table.ipynb>data table notebook</a>'\n",
              "            + ' to learn more about interactive tables.';\n",
              "          element.innerHTML = '';\n",
              "          dataTable['output_type'] = 'display_data';\n",
              "          await google.colab.output.renderOutput(dataTable, element);\n",
              "          const docLink = document.createElement('div');\n",
              "          docLink.innerHTML = docLinkHtml;\n",
              "          element.appendChild(docLink);\n",
              "        }\n",
              "      </script>\n",
              "    </div>\n",
              "  </div>\n",
              "  "
            ]
          },
          "metadata": {},
          "execution_count": 129
        }
      ]
    },
    {
      "cell_type": "code",
      "source": [
        "# Using model to predict the value\n",
        "y_pred = model.predict(X_test)"
      ],
      "metadata": {
        "id": "k4MCR0p66VfO"
      },
      "execution_count": null,
      "outputs": []
    },
    {
      "cell_type": "code",
      "source": [
        "# MAE\n",
        "MAE = metrics.mean_absolute_error(y_test, y_pred)\n",
        "\n",
        "# MSE\n",
        "MSE = metrics.mean_squared_error(y_test, y_pred, squared=True)\n",
        "\n",
        "# RMSE\n",
        "RMSE = metrics.mean_squared_error(y_test, y_pred, squared=False)\n",
        "\n",
        "print(f'MAE is', MAE)\n",
        "print(f'MSE is', MSE)\n",
        "print(f'RMSE is', RMSE)\n",
        "print(f'The model score is', model.score(X_test, y_test))"
      ],
      "metadata": {
        "colab": {
          "base_uri": "https://localhost:8080/"
        },
        "id": "WyzCcdkJ6YBD",
        "outputId": "84b87e4a-0388-40e8-aed7-6e95a476061d"
      },
      "execution_count": null,
      "outputs": [
        {
          "output_type": "stream",
          "name": "stdout",
          "text": [
            "MAE is 0.11623757338152278\n",
            "MSE is 0.02912763481050396\n",
            "RMSE is 0.17066820093533522\n",
            "The model score is 0.818999918119227\n"
          ]
        }
      ]
    },
    {
      "cell_type": "markdown",
      "source": [
        "email TA = 6470196421@student.chula.ac.th"
      ],
      "metadata": {
        "id": "zwGdXl6v9Xt9"
      }
    }
  ]
}